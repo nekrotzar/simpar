{
 "cells": [
  {
   "cell_type": "markdown",
   "metadata": {},
   "source": [
    "# OpenMP Parallel Performance and Scalability analysis of $n$-body problem\n",
    "---"
   ]
  },
  {
   "cell_type": "markdown",
   "metadata": {},
   "source": [
    "Import all the required libraries."
   ]
  },
  {
   "cell_type": "code",
   "execution_count": null,
   "metadata": {},
   "outputs": [],
   "source": [
    "import pandas as pd\n",
    "import numpy as np\n",
    "import seaborn as sns\n",
    "import matplotlib.pyplot as plt\n",
    "\n",
    "from IPython.display import display, HTML"
   ]
  },
  {
   "cell_type": "markdown",
   "metadata": {},
   "source": [
    "## System Info\n",
    "---"
   ]
  },
  {
   "cell_type": "code",
   "execution_count": null,
   "metadata": {},
   "outputs": [],
   "source": [
    "base_path = 'data/'\n",
    "\n",
    "info = pd.read_csv(base_path + 'system_info.txt', ':', names = [\"Parameter\", \"Description\"])\n",
    "info = pd.DataFrame(info, columns = [\"Parameter\", \"Description\"])\n",
    "display(HTML(info.to_html(justify='left',bold_rows=True ,index=False)))"
   ]
  },
  {
   "cell_type": "markdown",
   "metadata": {},
   "source": [
    "## Obtain the data\n",
    "---\n",
    "\n",
    "Serial and parallel execution times can be obtained by running the script *run_tests.sh*. The number of processors, $N$, can be specified in the OpenMP parallelization.\n",
    "\n",
    "> $ ./run_tests simpar\n",
    "\n",
    "> $ ./run_tests simpar-omp N\n",
    "\n",
    "The results from each run is stored in a csv file e.g ***parallel_cpu4_results.csv*** where the tests where run for $N=4$."
   ]
  },
  {
   "cell_type": "markdown",
   "metadata": {},
   "source": [
    "Read data from csv files and create DataFrame objects for each of the files. Since serial and parallel results for each number of processors are divided in different files, we concatenate the data from all the parallel results."
   ]
  },
  {
   "cell_type": "code",
   "execution_count": null,
   "metadata": {},
   "outputs": [],
   "source": [
    "serial = pd.read_csv(base_path + 'serial_cpu1_results.csv')\n",
    "serial.insert(0, column='Test Number', value=serial.index)\n",
    "\n",
    "num_procs = 8\n",
    "parallel_data = []\n",
    "\n",
    "for i in range(1, num_procs+1):\n",
    "    filename = 'parallel_cpu' + str(i) + '_results.csv'\n",
    "    \n",
    "    try:\n",
    "        parallel_data.append(pd.read_csv(base_path + filename))\n",
    "    except:\n",
    "        print('File {0} not found. Try running the test script for {1} threads'.format(filename,i))\n",
    "\n",
    "parallel = pd.concat(parallel_data, ignore_index=False)\n",
    "parallel.insert(0, column='Test Number', value=parallel.index)"
   ]
  },
  {
   "cell_type": "markdown",
   "metadata": {},
   "source": [
    "## Display data\n",
    "---"
   ]
  },
  {
   "cell_type": "markdown",
   "metadata": {},
   "source": [
    "### Serial algorithm results"
   ]
  },
  {
   "cell_type": "code",
   "execution_count": null,
   "metadata": {},
   "outputs": [],
   "source": [
    "display(HTML(serial.to_html(index=False)))"
   ]
  },
  {
   "cell_type": "markdown",
   "metadata": {},
   "source": [
    "### OpenMP algorithm results"
   ]
  },
  {
   "cell_type": "code",
   "execution_count": null,
   "metadata": {},
   "outputs": [],
   "source": [
    "display(HTML(parallel.sort_values(by=['Test Number','Processors']).to_html(index=False)))"
   ]
  },
  {
   "cell_type": "markdown",
   "metadata": {},
   "source": [
    "## Calculate performance metrics\n",
    "---\n",
    "\n",
    "Performance results for the faculty provided tests, with varying number of particles, $n$, and simulation steps, $t$. The performance metric used to check scalability was the elapsed time, the speedup and efficiency."
   ]
  },
  {
   "cell_type": "code",
   "execution_count": null,
   "metadata": {},
   "outputs": [],
   "source": [
    "# Set indexes for data frames\n",
    "serial.set_index(['Test Number'], inplace=True)\n",
    "parallel.set_index(['Test Number','Processors'], inplace=True)"
   ]
  },
  {
   "cell_type": "markdown",
   "metadata": {},
   "source": [
    "### Speedup\n",
    "\n",
    "The principal measure of parallelization efficiency is the speedup, $S$, defined to be the ratio of the time to execute the computational workload $W$ on a single processor to the time on $N$ processors.\n",
    "    \n",
    "\\begin{equation}\n",
    "    S_N = \\frac{T_1}{T_N}\n",
    "    \\quad\\text{where}\\quad\n",
    "    T_N = (f + \\frac{(1-f)}{N})T_1\n",
    "\\end{equation}\n",
    "\n",
    "$f$  represents the fraction of the code that cannot be parallelized. The remaining fraction, $1 – f$, is parallelizable. Optimally, if the parallelized code scales linearly with the number of processors once parallelized, then the runtime reduces to $\\frac{(1-f)}{N}$."
   ]
  },
  {
   "cell_type": "code",
   "execution_count": null,
   "metadata": {},
   "outputs": [],
   "source": [
    "parallel['Speedup'] = (serial['Real time'] / parallel['Real time'])"
   ]
  },
  {
   "cell_type": "code",
   "execution_count": null,
   "metadata": {},
   "outputs": [],
   "source": [
    "# Reset indexes in order to calculate the following metrics\n",
    "serial.reset_index(inplace=True)\n",
    "parallel.reset_index(inplace=True)"
   ]
  },
  {
   "cell_type": "markdown",
   "metadata": {},
   "source": [
    "### Efficiency\n",
    "\n",
    "The ratio of the true speedup to the theoretical speedup is the parallelization efficiency, which is a measure of the efficiency of the parallel processor to execute a given parallel algorithm. Any degradation in performance due to parallelization overhead will result in $\\epsilon_N$ being less than one.\n",
    "\n",
    "\\begin{equation}\n",
    "    \\epsilon_N = \\frac{S_N}{N}\n",
    "\\end{equation}"
   ]
  },
  {
   "cell_type": "code",
   "execution_count": null,
   "metadata": {},
   "outputs": [],
   "source": [
    "parallel['Efficiency'] = parallel['Speedup'] / parallel['Processors']"
   ]
  },
  {
   "cell_type": "markdown",
   "metadata": {},
   "source": [
    "## Data analysis\n",
    "---"
   ]
  },
  {
   "cell_type": "code",
   "execution_count": null,
   "metadata": {
    "scrolled": false
   },
   "outputs": [],
   "source": [
    "aux = parallel[['Test Number','Particles', 'Steps','Processors','Real time','Speedup','Efficiency']]\n",
    "temp = pd.DataFrame(aux)\n",
    "temp.set_index(['Test Number','Processors'], inplace=True)\n",
    "temp.sort_index(inplace=True)\n",
    "\n",
    "display(HTML(temp.sort_values(by=['Test Number','Processors']).to_html(index=True)))"
   ]
  },
  {
   "cell_type": "code",
   "execution_count": null,
   "metadata": {},
   "outputs": [],
   "source": [
    "line_labels = []\n",
    "lines = []\n",
    "\n",
    "# Create matplotlib figure\n",
    "fig, ax = plt.subplots(1,2, figsize=(10,4))\n",
    "plt.tight_layout()\n",
    "fig.subplots_adjust(wspace=0.18)\n",
    "\n",
    "# Setup subplots\n",
    "ax[0].grid()\n",
    "ax[1].grid()\n",
    "ax[0].set_xlabel('Processors')\n",
    "ax[0].set_ylabel('Speedup')\n",
    "ax[1].set_xlabel('Processors')\n",
    "ax[1].set_ylabel('Efficiency')\n",
    "\n",
    "# For each test in range\n",
    "for i in range(2,6):\n",
    "    line_labels.append('{0}: n={1}, t={2}'.format(i, int(temp.loc[(i,1)]['Particles']), int(temp.loc[(i,1)]['Steps'])))\n",
    "    ax[0].plot(temp.loc[i]['Speedup'], marker=\".\")\n",
    "    l, = ax[1].plot(temp.loc[i]['Efficiency'], marker=\".\")\n",
    "    lines.append(l)\n",
    "\n",
    "ax[0].plot([1,8],[1,8], linestyle=':', color='black' ,alpha=0.4)\n",
    "ax[1].plot([1,8],[1,1], linestyle=':', color='black' ,alpha=0.4)\n",
    "\n",
    "plt.subplots_adjust(right=0.8)\n",
    "\n",
    "fig.legend(tuple(lines), tuple(line_labels), loc=\"center right\", borderaxespad=0.1, title=\"# of test\", shadow=True)\n",
    "plt.show()"
   ]
  }
 ],
 "metadata": {
  "kernelspec": {
   "display_name": "Python 3",
   "language": "python",
   "name": "python3"
  },
  "language_info": {
   "codemirror_mode": {
    "name": "ipython",
    "version": 3
   },
   "file_extension": ".py",
   "mimetype": "text/x-python",
   "name": "python",
   "nbconvert_exporter": "python",
   "pygments_lexer": "ipython3",
   "version": "3.7.1"
  }
 },
 "nbformat": 4,
 "nbformat_minor": 2
}
